{
 "cells": [
  {
   "cell_type": "code",
   "execution_count": 1,
   "metadata": {
    "collapsed": true
   },
   "outputs": [],
   "source": [
    "import pyro\n",
    "import torch\n",
    "import numpy as np\n",
    "import pyro.distributions as dist\n",
    "pyro.set_rng_seed(101)\n",
    "from tqdm import tqdm_notebook as tqdm\n",
    "import pandas as pd\n",
    "\n",
    "import sys\n",
    "import os\n",
    "sys.path.append(os.path.abspath(\"/Users/kaushalP/Desktop/ode2scm/\"))\n",
    "\n",
    "import matplotlib.pyplot as plt\n",
    "%matplotlib inline\n",
    "import matplotlib.pylab as pylab\n",
    "\n",
    "\n",
    "from inst.python.mapk_scm import MAPK_SCM, scm_erk_counterfactual\n",
    "from inst.python.gf_scm import GF_SCM, scm_ras_erk_counterfactual\n",
    "\n",
    "def plot_hist(arr, title, xlabel):\n",
    "    plt.hist(misspeced_true,)\n",
    "    plt.title(title)\n",
    "    plt.xlabel(xlabel)\n",
    "    plt.ylabel(\"#\");"
   ]
  },
  {
   "cell_type": "markdown",
   "metadata": {
    "collapsed": true
   },
   "source": [
    "# Misspecified parameters"
   ]
  },
  {
   "cell_type": "code",
   "execution_count": 49,
   "metadata": {
    "collapsed": true
   },
   "outputs": [],
   "source": [
    "misspeced_rates = {\n",
    "        'raf_activate': 0.1,\n",
    "        'raf_deactivate': 0.1,\n",
    "        'mek_activate': pyro.sample('misspeced_Mek', dist.Uniform(0.1,0.5)),\n",
    "        'mek_deactivate': 2.0,\n",
    "        'erk_activate': 0.1,\n",
    "        'erk_deactivate': 1.0\n",
    "}\n",
    "\n",
    "true_rates = {\n",
    "        'raf_activate': 0.1,\n",
    "        'raf_deactivate': 0.1,\n",
    "        'mek_activate': 0.1,\n",
    "        'mek_deactivate': 2.0,\n",
    "        'erk_activate': 0.1,\n",
    "        'erk_deactivate': 1.0\n",
    "}\n",
    "\n",
    "totals = {\n",
    "        'Raf': 100,\n",
    "        'Mek': 100,\n",
    "        'Erk': 100\n",
    "}\n",
    "\n",
    "observation = {\n",
    "        'Raf': 49.99773,\n",
    "        'Mek': 64.10115,\n",
    "        'Erk': 84.7213\n",
    "}\n",
    "\n",
    "raf_intervention = {\n",
    "        'Raf': 24.96818\n",
    "}\n",
    "\n",
    "mapk_scm = MAPK_SCM(true_rates, \n",
    "                    totals, \n",
    "                    spike_width=1.0)\n",
    "\n",
    "#mis_mapk_scm = MAPK_SCM(misspeced_rates, \n",
    "#                    totals, \n",
    "#                    spike_width=1.0)\n",
    "\n",
    "noise = {\n",
    "        'N_Raf': dist.Uniform(0., 1.),\n",
    "        'N_Mek': dist.Uniform(0., 1.),\n",
    "        'N_Erk': dist.Uniform(0., 1.)\n",
    "}\n",
    "obs = mapk_scm.model(noise)\n",
    "\n",
    "misspeced_observation = {\n",
    "        'Raf': obs[0],\n",
    "        'Mek': obs[1],\n",
    "        'Erk': obs[2]\n",
    "}"
   ]
  },
  {
   "cell_type": "code",
   "execution_count": 50,
   "metadata": {},
   "outputs": [
    {
     "data": {
      "text/html": [
       "<div>\n",
       "<style>\n",
       "    .dataframe thead tr:only-child th {\n",
       "        text-align: right;\n",
       "    }\n",
       "\n",
       "    .dataframe thead th {\n",
       "        text-align: left;\n",
       "    }\n",
       "\n",
       "    .dataframe tbody tr th {\n",
       "        vertical-align: top;\n",
       "    }\n",
       "</style>\n",
       "<table border=\"1\" class=\"dataframe\">\n",
       "  <thead>\n",
       "    <tr style=\"text-align: right;\">\n",
       "      <th></th>\n",
       "      <th>Raf</th>\n",
       "      <th>Mek</th>\n",
       "      <th>Erk</th>\n",
       "      <th>N_Raf</th>\n",
       "      <th>N_Mek</th>\n",
       "      <th>N_erk</th>\n",
       "    </tr>\n",
       "  </thead>\n",
       "  <tbody>\n",
       "    <tr>\n",
       "      <th>count</th>\n",
       "      <td>1000.000000</td>\n",
       "      <td>1000.000000</td>\n",
       "      <td>1000.000000</td>\n",
       "      <td>1000.000000</td>\n",
       "      <td>1000.000000</td>\n",
       "      <td>1000.000000</td>\n",
       "    </tr>\n",
       "    <tr>\n",
       "      <th>mean</th>\n",
       "      <td>62.555004</td>\n",
       "      <td>84.749908</td>\n",
       "      <td>94.091148</td>\n",
       "      <td>0.502198</td>\n",
       "      <td>0.498320</td>\n",
       "      <td>0.495102</td>\n",
       "    </tr>\n",
       "    <tr>\n",
       "      <th>std</th>\n",
       "      <td>7.265015</td>\n",
       "      <td>5.544848</td>\n",
       "      <td>2.755966</td>\n",
       "      <td>0.290601</td>\n",
       "      <td>0.284259</td>\n",
       "      <td>0.287076</td>\n",
       "    </tr>\n",
       "    <tr>\n",
       "      <th>min</th>\n",
       "      <td>50.022900</td>\n",
       "      <td>71.861580</td>\n",
       "      <td>87.951294</td>\n",
       "      <td>0.000916</td>\n",
       "      <td>0.001132</td>\n",
       "      <td>0.000147</td>\n",
       "    </tr>\n",
       "    <tr>\n",
       "      <th>25%</th>\n",
       "      <td>56.387765</td>\n",
       "      <td>80.423700</td>\n",
       "      <td>91.803144</td>\n",
       "      <td>0.255511</td>\n",
       "      <td>0.249870</td>\n",
       "      <td>0.253897</td>\n",
       "    </tr>\n",
       "    <tr>\n",
       "      <th>50%</th>\n",
       "      <td>62.852827</td>\n",
       "      <td>85.067974</td>\n",
       "      <td>94.122349</td>\n",
       "      <td>0.514113</td>\n",
       "      <td>0.502032</td>\n",
       "      <td>0.495295</td>\n",
       "    </tr>\n",
       "    <tr>\n",
       "      <th>75%</th>\n",
       "      <td>68.722092</td>\n",
       "      <td>89.390196</td>\n",
       "      <td>96.523880</td>\n",
       "      <td>0.748884</td>\n",
       "      <td>0.735253</td>\n",
       "      <td>0.750161</td>\n",
       "    </tr>\n",
       "    <tr>\n",
       "      <th>max</th>\n",
       "      <td>74.994797</td>\n",
       "      <td>95.189537</td>\n",
       "      <td>98.961601</td>\n",
       "      <td>0.999792</td>\n",
       "      <td>0.998591</td>\n",
       "      <td>0.998481</td>\n",
       "    </tr>\n",
       "  </tbody>\n",
       "</table>\n",
       "</div>"
      ],
      "text/plain": [
       "               Raf          Mek          Erk        N_Raf        N_Mek  \\\n",
       "count  1000.000000  1000.000000  1000.000000  1000.000000  1000.000000   \n",
       "mean     62.555004    84.749908    94.091148     0.502198     0.498320   \n",
       "std       7.265015     5.544848     2.755966     0.290601     0.284259   \n",
       "min      50.022900    71.861580    87.951294     0.000916     0.001132   \n",
       "25%      56.387765    80.423700    91.803144     0.255511     0.249870   \n",
       "50%      62.852827    85.067974    94.122349     0.514113     0.502032   \n",
       "75%      68.722092    89.390196    96.523880     0.748884     0.735253   \n",
       "max      74.994797    95.189537    98.961601     0.999792     0.998591   \n",
       "\n",
       "             N_erk  \n",
       "count  1000.000000  \n",
       "mean      0.495102  \n",
       "std       0.287076  \n",
       "min       0.000147  \n",
       "25%       0.253897  \n",
       "50%       0.495295  \n",
       "75%       0.750161  \n",
       "max       0.998481  "
      ]
     },
     "execution_count": 50,
     "metadata": {},
     "output_type": "execute_result"
    }
   ],
   "source": [
    "obss = np.array([torch.stack(mapk_scm.model(noise)).numpy() for _ in range(1000)])\n",
    "#np.savetxt('mapk_samples_double_large_binom.csv', obss, delimiter=',')\n",
    "df = pd.DataFrame(data=obss,columns=['Raf','Mek','Erk','N_Raf','N_Mek','N_erk'])\n",
    "\n",
    "df.describe()"
   ]
  },
  {
   "cell_type": "markdown",
   "metadata": {},
   "source": [
    "## True Counterfactual"
   ]
  },
  {
   "cell_type": "code",
   "execution_count": 51,
   "metadata": {
    "collapsed": true
   },
   "outputs": [],
   "source": [
    "out = scm_erk_counterfactual(\n",
    "        true_rates,\n",
    "        totals,\n",
    "        observation,\n",
    "        raf_intervention,\n",
    "        spike_width=1.0,\n",
    "        svi=True\n",
    "        )"
   ]
  },
  {
   "cell_type": "markdown",
   "metadata": {},
   "source": [
    "# misspeced counterfactual with true data"
   ]
  },
  {
   "cell_type": "code",
   "execution_count": 52,
   "metadata": {
    "collapsed": true
   },
   "outputs": [],
   "source": [
    "misspeced_true = scm_erk_counterfactual(\n",
    "        misspeced_rates,\n",
    "        totals,\n",
    "        observation,\n",
    "        raf_intervention,\n",
    "        spike_width=1.0,\n",
    "        svi=True\n",
    "        )\n",
    "\n",
    "#plot_hist(misspeced_true, \"\", \"Weight\")"
   ]
  },
  {
   "cell_type": "markdown",
   "metadata": {},
   "source": [
    "## misspecified counterfactual with misspeced data"
   ]
  },
  {
   "cell_type": "code",
   "execution_count": 53,
   "metadata": {
    "collapsed": true
   },
   "outputs": [],
   "source": [
    "misspeced_false = scm_erk_counterfactual(\n",
    "        misspeced_rates,\n",
    "        totals,\n",
    "        misspeced_observation,\n",
    "        raf_intervention,\n",
    "        spike_width=1.0,\n",
    "        svi=True\n",
    "        )\n",
    "\n",
    "#plot_hist(misspeced_false, \"\", \"Weight\")"
   ]
  },
  {
   "cell_type": "code",
   "execution_count": 59,
   "metadata": {},
   "outputs": [
    {
     "data": {
      "image/png": "[encoded data removed]",
      "text/plain": [
       "<matplotlib.figure.Figure at 0x1a220d4898>"
      ]
     },
     "metadata": {},
     "output_type": "display_data"
    }
   ],
   "source": [
    "bins = np.linspace(-10, 17, 50)\n",
    "\n",
    "fig = plt.figure(1,figsize=(15,10))\n",
    "ax = fig.add_subplot(111)\n",
    "\n",
    "\n",
    "plt.hist(misspeced_true, bins, alpha=0.5, label='Misspecified SCM-derived causal effect', edgecolor='black', linewidth=1)\n",
    "plt.hist(out, bins, alpha=0.5, label='True causal effect', edgecolor='black', linewidth=1)\n",
    "plt.hist(misspeced_false, bins, alpha=0.5, label='Misspecified direct simulation', edgecolor='black', linewidth=1)\n",
    "plt.legend(loc='center right', bbox_to_anchor=(1.65, 0.5), fontsize=22)\n",
    "plt.title(\"Causal effect of MAP3K on MAPK\", fontsize=40)\n",
    "plt.rc('xtick', labelsize=50)\n",
    "plt.rc('ytick', labelsize=50)\n",
    "plt.show()"
   ]
  },
  {
   "cell_type": "markdown",
   "metadata": {},
   "source": [
    "### Median difference under misspecification"
   ]
  },
  {
   "cell_type": "code",
   "execution_count": 109,
   "metadata": {
    "scrolled": true
   },
   "outputs": [
    {
     "data": {
      "application/vnd.jupyter.widget-view+json": {
       "model_id": "de3ba601d9c047fabf6cd6425285b8a0",
       "version_major": 2,
       "version_minor": 0
      },
      "text/plain": [
       "HBox(children=(IntProgress(value=0, max=50), HTML(value='')))"
      ]
     },
     "metadata": {},
     "output_type": "display_data"
    }
   ],
   "source": [
    "from statistics import median\n",
    "\n",
    "true_scm_list = []\n",
    "true_dyn_list = []\n",
    "\n",
    "true_rates = {\n",
    "        'raf_activate': 0.1,\n",
    "        'raf_deactivate': 0.1,\n",
    "        'mek_activate': 0.1,\n",
    "        'mek_deactivate': 2.0,\n",
    "        'erk_activate': 0.1,\n",
    "        'erk_deactivate': 1.0\n",
    "}\n",
    "\n",
    "for i in tqdm(range(50)):\n",
    "    misspeced_rates = {\n",
    "        'raf_activate': pyro.sample('misspeced_', dist.Uniform(0.1,0.5)),\n",
    "        'raf_deactivate': pyro.sample('misspeced_Mek', dist.Uniform(0.1,0.5)),\n",
    "        'mek_activate': pyro.sample('misspeced_Mek', dist.Uniform(0.1,0.5)),\n",
    "        'mek_deactivate': pyro.sample('misspeced_Mek', dist.Uniform(1.9,2.2)),\n",
    "        'erk_activate': pyro.sample('misspeced_Mek', dist.Uniform(0.1,0.5)),\n",
    "        'erk_deactivate': pyro.sample('misspeced_Mek', dist.Uniform(0.5,1.5))\n",
    "    }\n",
    "    \n",
    "    true_mapk_scm = MAPK_SCM(true_rates, \n",
    "                    totals, \n",
    "                    spike_width=1.0) \n",
    "    true_obs = true_mapk_scm.model(noise)\n",
    "    \n",
    "    true_observation = {\n",
    "        'Raf': float(true_obs[0]),\n",
    "        'Mek': float(true_obs[1]),\n",
    "        'Erk': float(true_obs[2])\n",
    "    }\n",
    "    \n",
    "    mis_mapk_scm = MAPK_SCM(misspeced_rates, \n",
    "                    totals, \n",
    "                    spike_width=1.0)\n",
    "    \n",
    "    mis_obs = mis_mapk_scm.model(noise)\n",
    "    \n",
    "    misspeced_observation = {\n",
    "        'Raf': float(mis_obs[0]),\n",
    "        'Mek': float(mis_obs[1]),\n",
    "        'Erk': float(mis_obs[2])\n",
    "    }\n",
    "    \n",
    "    raf_intervention = {\n",
    "        'Raf': 24.96818\n",
    "    }\n",
    "    \n",
    "    true_ce = scm_erk_counterfactual(\n",
    "        true_rates,\n",
    "        totals,\n",
    "        true_observation,\n",
    "        raf_intervention,\n",
    "        spike_width=1.0,\n",
    "        svi=True\n",
    "    )\n",
    "    \n",
    "    misspeced_true = scm_erk_counterfactual(\n",
    "        misspeced_rates,\n",
    "        totals,\n",
    "        true_observation,\n",
    "        raf_intervention,\n",
    "        spike_width=1.0,\n",
    "        svi=True\n",
    "    )\n",
    "    \n",
    "    misspeced_false = scm_erk_counterfactual(\n",
    "        misspeced_rates,\n",
    "        totals,\n",
    "        misspeced_observation,\n",
    "        raf_intervention,\n",
    "        spike_width=1.0,\n",
    "        svi=True\n",
    "    )\n",
    "    \n",
    "    true_scm_list.append(abs(median(true_ce) - median(misspeced_true)))\n",
    "    true_dyn_list.append(abs(median(true_ce) - median(misspeced_false)))"
   ]
  },
  {
   "cell_type": "code",
   "execution_count": 114,
   "metadata": {},
   "outputs": [
    {
     "name": "stdout",
     "output_type": "stream",
     "text": [
      "True Vs. Misspecified SCM causal effect: 0.34305877685546876\n",
      "True Vs. Misspecified dynamic model causal effect: 1.0326355743408202\n"
     ]
    }
   ],
   "source": [
    "print(\"True Vs. Misspecified SCM causal effect:\", np.mean(true_scm_list))\n",
    "print(\"True Vs. Misspecified dynamic model causal effect:\", np.mean(true_dyn_list))"
   ]
  },
  {
   "cell_type": "markdown",
   "metadata": {},
   "source": [
    "## IGF model"
   ]
  },
  {
   "cell_type": "code",
   "execution_count": 25,
   "metadata": {
    "collapsed": true
   },
   "outputs": [],
   "source": [
    "noise = {\n",
    "        'N_SOS': dist.Normal(0., 1.),\n",
    "        'N_Ras': dist.Normal(0., 1.),\n",
    "        'N_PI3K': dist.Normal(0., 1.),\n",
    "        'N_AKT': dist.Normal(0., 1.),\n",
    "        'N_Raf': dist.Normal(0., 1.),\n",
    "        'N_Mek': dist.Normal(0., 1.),\n",
    "        'N_Erk': dist.Normal(0., 1.)\n",
    "    }\n",
    "misspeced_rates = {\n",
    "  'SOS_activation_by_EGFR': .01,\n",
    "  'SOS_activation_by_IGFR':.01,\n",
    "  'SOS_deactivation':.5,\n",
    "  'Ras_activation_by_SOS': .01,\n",
    "  'Ras_deactivation':.5,\n",
    "  'PI3K_activation_by_EGFR':.01,\n",
    "  'PI3K_activation_by_IGFR':.01,\n",
    "  'PI3K_activation_by_Ras':.01,\n",
    "  'PI3K_deactivation':.5,\n",
    "  'AKT_activation_by_PI3K':pyro.sample('misspeced_Ras', dist.Uniform(.05,.2)),\n",
    "  'AKT_deactivation':.5,\n",
    "  'Raf_activation_by_Ras':.01,\n",
    "  'Raf_deactivation_by_AKT':.01,\n",
    "  'Raf_deactivation_by_phosphotase':.3,\n",
    "  'Mek_activation_by_Raf':.05,\n",
    "  'Mek_deactivation': 0.5,\n",
    "  'Erk_activation_by_Mek':.05,\n",
    "  'Erk_deactivation':.5\n",
    "}\n",
    "\n",
    "rates = {\n",
    "  'SOS_activation_by_EGFR': .01,\n",
    "  'SOS_activation_by_IGFR':.01,\n",
    "  'SOS_deactivation':.5,\n",
    "  'Ras_activation_by_SOS':.01,\n",
    "  'Ras_deactivation':.5,\n",
    "  'PI3K_activation_by_EGFR':.01,\n",
    "  'PI3K_activation_by_IGFR':.01,\n",
    "  'PI3K_activation_by_Ras':.01,\n",
    "  'PI3K_deactivation':.5,\n",
    "  'AKT_activation_by_PI3K':.01,\n",
    "  'AKT_deactivation':.5,\n",
    "  'Raf_activation_by_Ras':.01,\n",
    "  'Raf_deactivation_by_AKT':.01,\n",
    "  'Raf_deactivation_by_phosphotase':.3,\n",
    "  'Mek_activation_by_Raf':.05,\n",
    "  'Mek_deactivation':.5,\n",
    "  'Erk_activation_by_Mek':.05,\n",
    "  'Erk_deactivation':.5\n",
    "}\n",
    "\n",
    "totals = {\n",
    "        'SOS': 100.,\n",
    "        'Ras': 100.,\n",
    "        'PI3K': 100.,\n",
    "        'AKT': 100.,\n",
    "        'Raf': 100.,\n",
    "        'Mek': 100.,\n",
    "        'Erk': 100.\n",
    "    }\n",
    "\n",
    "gf_scm = GF_SCM(rates, totals, spike_width=1.0)\n",
    "obs = gf_scm.model(noise)\n",
    "\n",
    "observation = {\n",
    "        'SOS': obs[0][0],\n",
    "        'Ras': obs[0][1],\n",
    "        'PI3K': obs[0][2],\n",
    "        'AKT': obs[0][3],\n",
    "        'Raf': obs[0][4],\n",
    "        'Mek': obs[0][5],\n",
    "        'Erk': obs[0][6]\n",
    "}\n",
    "\n",
    "gf_scm = GF_SCM(misspeced_rates, totals, spike_width=1.0)\n",
    "obs = gf_scm.model(noise)\n",
    "\n",
    "misspeced_observation = {\n",
    "        'SOS': obs[0][0],\n",
    "        'Ras': obs[0][1],\n",
    "        'PI3K': obs[0][2],\n",
    "        'AKT': obs[0][3],\n",
    "        'Raf': obs[0][4],\n",
    "        'Mek': obs[0][5],\n",
    "        'Erk': obs[0][6]\n",
    "}\n",
    "\n",
    "ras_intervention = {\n",
    "    'Ras': 15.0\n",
    "}"
   ]
  },
  {
   "cell_type": "code",
   "execution_count": 26,
   "metadata": {
    "collapsed": true
   },
   "outputs": [],
   "source": [
    "igf_samples = np.array([np.array(gf_scm.model(noise)).flatten() for _ in range(1000)])"
   ]
  },
  {
   "cell_type": "code",
   "execution_count": 27,
   "metadata": {
    "collapsed": true
   },
   "outputs": [],
   "source": [
    "np.savetxt('igf_samples.txt', igf_samples, delimiter=',')"
   ]
  },
  {
   "cell_type": "markdown",
   "metadata": {},
   "source": [
    "## True Counterfactual"
   ]
  },
  {
   "cell_type": "code",
   "execution_count": 28,
   "metadata": {},
   "outputs": [],
   "source": [
    "out = scm_ras_erk_counterfactual(\n",
    "        rates,\n",
    "        totals,\n",
    "        observation,\n",
    "        ras_intervention,\n",
    "        spike_width=1.0,\n",
    "        svi=True\n",
    "        )"
   ]
  },
  {
   "cell_type": "markdown",
   "metadata": {},
   "source": [
    "# misspeced counterfactual with true data"
   ]
  },
  {
   "cell_type": "code",
   "execution_count": 29,
   "metadata": {
    "collapsed": true
   },
   "outputs": [],
   "source": [
    "misspeced_true = scm_ras_erk_counterfactual(\n",
    "        misspeced_rates,\n",
    "        totals,\n",
    "        observation,\n",
    "        ras_intervention,\n",
    "        spike_width=1.0,\n",
    "        svi=True\n",
    "        )"
   ]
  },
  {
   "cell_type": "markdown",
   "metadata": {},
   "source": [
    "## misspeced counterfactual with misspeced data"
   ]
  },
  {
   "cell_type": "code",
   "execution_count": 30,
   "metadata": {
    "collapsed": true
   },
   "outputs": [],
   "source": [
    "misspeced_false = scm_ras_erk_counterfactual(\n",
    "        misspeced_rates,\n",
    "        totals,\n",
    "        misspeced_observation,\n",
    "        ras_intervention,\n",
    "        spike_width=1.0,\n",
    "        svi=True\n",
    "        )"
   ]
  },
  {
   "cell_type": "code",
   "execution_count": 31,
   "metadata": {
    "scrolled": true
   },
   "outputs": [
    {
     "data": {
      "image/png": "[encoded data removed]",
      "text/plain": [
       "<matplotlib.figure.Figure at 0x1a223e0860>"
      ]
     },
     "metadata": {},
     "output_type": "display_data"
    }
   ],
   "source": [
    "bins = np.linspace(-10, 17, 50)\n",
    "\n",
    "fig = plt.figure(1,figsize=(15,10))\n",
    "ax = fig.add_subplot(111)\n",
    "\n",
    "plt.hist(misspeced_true, bins, alpha=0.6, label='Misspecified Model | True data', edgecolor='black', linewidth=1)\n",
    "plt.hist(out, bins, alpha=0.6, label='Original Model | True data', edgecolor='black', linewidth=1)\n",
    "plt.hist(misspeced_false, bins, alpha=0.6, label='Misspecified Model | Misspecified data', edgecolor='black', linewidth=1)\n",
    "plt.legend(loc='center right', bbox_to_anchor=(1.65, 0.5), fontsize=22)\n",
    "plt.title(\"Causal effect of Ras on Erk\", fontsize=40)\n",
    "plt.rc('xtick', labelsize=50)\n",
    "plt.rc('ytick', labelsize=50)\n",
    "plt.savefig('igf.png')"
   ]
  },
  {
   "cell_type": "markdown",
   "metadata": {},
   "source": [
    "### Median difference under Misspecification"
   ]
  },
  {
   "cell_type": "code",
   "execution_count": 47,
   "metadata": {},
   "outputs": [
    {
     "data": {
      "application/vnd.jupyter.widget-view+json": {
       "model_id": "65f08d24921f4015a0dc8f19bbfed6cc",
       "version_major": 2,
       "version_minor": 0
      },
      "text/plain": [
       "A Jupyter Widget"
      ]
     },
     "metadata": {},
     "output_type": "display_data"
    },
    {
     "name": "stdout",
     "output_type": "stream",
     "text": [
      "\n"
     ]
    }
   ],
   "source": [
    "from statistics import median\n",
    "\n",
    "noise = {\n",
    "        'N_SOS': dist.Normal(0., 1.),\n",
    "        'N_Ras': dist.Normal(0., 1.),\n",
    "        'N_PI3K': dist.Normal(0., 1.),\n",
    "        'N_AKT': dist.Normal(0., 1.),\n",
    "        'N_Raf': dist.Normal(0., 1.),\n",
    "        'N_Mek': dist.Normal(0., 1.),\n",
    "        'N_Erk': dist.Normal(0., 1.)\n",
    "    }\n",
    "\n",
    "totals = {\n",
    "        'SOS': 100.,\n",
    "        'Ras': 100.,\n",
    "        'PI3K': 100.,\n",
    "        'AKT': 100.,\n",
    "        'Raf': 100.,\n",
    "        'Mek': 100.,\n",
    "        'Erk': 100.\n",
    "    }\n",
    "\n",
    "\n",
    "true_scm_list = []\n",
    "true_dyn_list = []\n",
    "\n",
    "true_rates = {\n",
    "  'SOS_activation_by_EGFR': .01,\n",
    "  'SOS_activation_by_IGFR':.01,\n",
    "  'SOS_deactivation':.5,\n",
    "  'Ras_activation_by_SOS':.01,\n",
    "  'Ras_deactivation':.5,\n",
    "  'PI3K_activation_by_EGFR':.01,\n",
    "  'PI3K_activation_by_IGFR':.01,\n",
    "  'PI3K_activation_by_Ras':.01,\n",
    "  'PI3K_deactivation':.5,\n",
    "  'AKT_activation_by_PI3K':.01,\n",
    "  'AKT_deactivation':.5,\n",
    "  'Raf_activation_by_Ras':.01,\n",
    "  'Raf_deactivation_by_AKT':.01,\n",
    "  'Raf_deactivation_by_phosphotase':.3,\n",
    "  'Mek_activation_by_Raf':.05,\n",
    "  'Mek_deactivation':.5,\n",
    "  'Erk_activation_by_Mek':.05,\n",
    "  'Erk_deactivation':.5\n",
    "}\n",
    "\n",
    "for i in tqdm(range(50)):\n",
    "    misspeced_rates = {\n",
    "      'SOS_activation_by_EGFR': .01,\n",
    "      'SOS_activation_by_IGFR':.01,\n",
    "      'SOS_deactivation':.5,\n",
    "      'Ras_activation_by_SOS': .01,\n",
    "      'Ras_deactivation':.5,\n",
    "      'PI3K_activation_by_EGFR':.01,\n",
    "      'PI3K_activation_by_IGFR':.01,\n",
    "      'PI3K_activation_by_Ras':.01,\n",
    "      'PI3K_deactivation':.5,\n",
    "      'AKT_activation_by_PI3K':pyro.sample('misspeced_Ras', dist.Uniform(.01,.1)),\n",
    "      'AKT_deactivation':.5,\n",
    "      'Raf_activation_by_Ras':.01,\n",
    "      'Raf_deactivation_by_AKT':.01,\n",
    "      'Raf_deactivation_by_phosphotase':.3,\n",
    "      'Mek_activation_by_Raf':.05,\n",
    "      'Mek_deactivation': 0.5,\n",
    "      'Erk_activation_by_Mek':.05,\n",
    "      'Erk_deactivation':.5\n",
    "    }\n",
    "    \n",
    "    gf_scm = GF_SCM(true_rates, totals, spike_width=1.0)\n",
    "    obs = gf_scm.model(noise)\n",
    "\n",
    "    true_observation = {\n",
    "            'SOS': obs[0][0],\n",
    "            'Ras': obs[0][1],\n",
    "            'PI3K': obs[0][2],\n",
    "            'AKT': obs[0][3],\n",
    "            'Raf': obs[0][4],\n",
    "            'Mek': obs[0][5],\n",
    "            'Erk': obs[0][6]\n",
    "    }\n",
    "\n",
    "    gf_scm = GF_SCM(misspeced_rates, totals, spike_width=1.0)\n",
    "    obs = gf_scm.model(noise)\n",
    "\n",
    "    misspeced_observation = {\n",
    "            'SOS': obs[0][0],\n",
    "            'Ras': obs[0][1],\n",
    "            'PI3K': obs[0][2],\n",
    "            'AKT': obs[0][3],\n",
    "            'Raf': obs[0][4],\n",
    "            'Mek': obs[0][5],\n",
    "            'Erk': obs[0][6]\n",
    "    }\n",
    "\n",
    "    ras_intervention = {\n",
    "        'Ras': 15.0\n",
    "    }\n",
    "    \n",
    "    true_ce = scm_ras_erk_counterfactual(\n",
    "            true_rates,\n",
    "            totals,\n",
    "            true_observation,\n",
    "            ras_intervention,\n",
    "            spike_width=1.0,\n",
    "            svi=True\n",
    "            )\n",
    "    misspeced_true = scm_ras_erk_counterfactual(\n",
    "        misspeced_rates,\n",
    "        totals,\n",
    "        true_observation,\n",
    "        ras_intervention,\n",
    "        spike_width=1.0,\n",
    "        svi=True\n",
    "    )\n",
    "    \n",
    "    misspeced_false = scm_ras_erk_counterfactual(\n",
    "        misspeced_rates,\n",
    "        totals,\n",
    "        misspeced_observation,\n",
    "        ras_intervention,\n",
    "        spike_width=1.0,\n",
    "        svi=True\n",
    "    )\n",
    "    \n",
    "    true_scm_list.append(abs(median(true_ce) - median(misspeced_true)))\n",
    "    true_dyn_list.append(abs(median(true_ce) - median(misspeced_false)))"
   ]
  },
  {
   "cell_type": "code",
   "execution_count": 48,
   "metadata": {},
   "outputs": [
    {
     "name": "stdout",
     "output_type": "stream",
     "text": [
      "True Vs. Misspecified SCM causal effect: 7.563149\n",
      "True Vs. Misspecified dynamic model causal effect: 92.55643\n"
     ]
    }
   ],
   "source": [
    "print(\"True Vs. Misspecified SCM causal effect:\", np.mean(true_scm_list))\n",
    "print(\"True Vs. Misspecified dynamic model causal effect:\", np.mean(true_dyn_list))"
   ]
  },
  {
   "cell_type": "code",
   "execution_count": null,
   "metadata": {
    "collapsed": true
   },
   "outputs": [],
   "source": []
  }
 ],
 "metadata": {
  "kernelspec": {
   "display_name": "Python 3",
   "language": "python",
   "name": "python3"
  },
  "language_info": {
   "codemirror_mode": {
    "name": "ipython",
    "version": 3
   },
   "file_extension": ".py",
   "mimetype": "text/x-python",
   "name": "python",
   "nbconvert_exporter": "python",
   "pygments_lexer": "ipython3",
   "version": "3.6.3"
  }
 },
 "nbformat": 4,
 "nbformat_minor": 2
}
