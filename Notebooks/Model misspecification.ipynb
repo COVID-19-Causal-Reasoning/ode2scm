{
 "cells": [
  {
   "cell_type": "code",
   "execution_count": 27,
   "metadata": {},
   "outputs": [],
   "source": [
    "import pyro\n",
    "import torch\n",
    "import numpy as np\n",
    "import pyro.distributions as dist\n",
    "pyro.set_rng_seed(101)\n",
    "from tqdm import tqdm_notebook as tqdm\n",
    "import pandas as pd\n",
    "\n",
    "import sys\n",
    "import os\n",
    "sys.path.append(os.path.abspath(\"/Users/kaushalP/Desktop/ode2scm/\"))\n",
    "\n",
    "import matplotlib.pyplot as plt\n",
    "%matplotlib inline\n",
    "import matplotlib.pylab as pylab\n",
    "\n",
    "\n",
    "from inst.python.mapk_scm import MAPK_SCM, scm_erk_counterfactual\n",
    "from inst.python.gf_scm import GF_SCM, scm_ras_erk_counterfactual\n",
    "\n",
    "def plot_hist(arr, title, xlabel):\n",
    "    plt.hist(misspeced_true,)\n",
    "    plt.title(title)\n",
    "    plt.xlabel(xlabel)\n",
    "    plt.ylabel(\"#\");"
   ]
  },
  {
   "cell_type": "markdown",
   "metadata": {
    "collapsed": true
   },
   "source": [
    "# Misspecified parameters"
   ]
  },
  {
   "cell_type": "code",
   "execution_count": 2,
   "metadata": {},
   "outputs": [],
   "source": [
    "misspeced_rates = {\n",
    "        'raf_activate': 0.1,\n",
    "        'raf_deactivate': 0.1,\n",
    "        'mek_activate': pyro.sample('misspeced_Mek', dist.Uniform(0.1,0.5)),\n",
    "        'mek_deactivate': 2.0,\n",
    "        'erk_activate': 0.1,\n",
    "        'erk_deactivate': 1.0\n",
    "}\n",
    "\n",
    "true_rates = {\n",
    "        'raf_activate': 0.1,\n",
    "        'raf_deactivate': 0.1,\n",
    "        'mek_activate': 0.1,\n",
    "        'mek_deactivate': 2.0,\n",
    "        'erk_activate': 0.1,\n",
    "        'erk_deactivate': 1.0\n",
    "}\n",
    "\n",
    "totals = {\n",
    "        'Raf': 100,\n",
    "        'Mek': 100,\n",
    "        'Erk': 100\n",
    "}\n",
    "\n",
    "observation = {\n",
    "        'Raf': 49.99773,\n",
    "        'Mek': 64.10115,\n",
    "        'Erk': 84.7213\n",
    "}\n",
    "\n",
    "raf_intervention = {\n",
    "        'Raf': 24.96818\n",
    "}\n",
    "\n",
    "mapk_scm = MAPK_SCM(true_rates, \n",
    "                    totals, \n",
    "                    spike_width=1.0)\n",
    "\n",
    "#mis_mapk_scm = MAPK_SCM(misspeced_rates, \n",
    "#                    totals, \n",
    "#                    spike_width=1.0)\n",
    "\n",
    "noise = {\n",
    "        'N_Raf': dist.Uniform(0., 1.),\n",
    "        'N_Mek': dist.Uniform(0., 1.),\n",
    "        'N_Erk': dist.Uniform(0., 1.)\n",
    "}\n",
    "obs = mapk_scm.model(noise)\n",
    "\n",
    "misspeced_observation = {\n",
    "        'Raf': obs[0],\n",
    "        'Mek': obs[1],\n",
    "        'Erk': obs[2]\n",
    "}"
   ]
  },
  {
   "cell_type": "code",
   "execution_count": 3,
   "metadata": {},
   "outputs": [
    {
     "data": {
      "text/html": [
       "<div>\n",
       "<style scoped>\n",
       "    .dataframe tbody tr th:only-of-type {\n",
       "        vertical-align: middle;\n",
       "    }\n",
       "\n",
       "    .dataframe tbody tr th {\n",
       "        vertical-align: top;\n",
       "    }\n",
       "\n",
       "    .dataframe thead th {\n",
       "        text-align: right;\n",
       "    }\n",
       "</style>\n",
       "<table border=\"1\" class=\"dataframe\">\n",
       "  <thead>\n",
       "    <tr style=\"text-align: right;\">\n",
       "      <th></th>\n",
       "      <th>Raf</th>\n",
       "      <th>Mek</th>\n",
       "      <th>Erk</th>\n",
       "      <th>N_Raf</th>\n",
       "      <th>N_Mek</th>\n",
       "      <th>N_erk</th>\n",
       "    </tr>\n",
       "  </thead>\n",
       "  <tbody>\n",
       "    <tr>\n",
       "      <th>count</th>\n",
       "      <td>1000.000000</td>\n",
       "      <td>1000.000000</td>\n",
       "      <td>1000.000000</td>\n",
       "      <td>1000.000000</td>\n",
       "      <td>1000.000000</td>\n",
       "      <td>1000.000000</td>\n",
       "    </tr>\n",
       "    <tr>\n",
       "      <th>mean</th>\n",
       "      <td>62.148663</td>\n",
       "      <td>84.519012</td>\n",
       "      <td>94.160065</td>\n",
       "      <td>0.485947</td>\n",
       "      <td>0.490790</td>\n",
       "      <td>0.503301</td>\n",
       "    </tr>\n",
       "    <tr>\n",
       "      <th>std</th>\n",
       "      <td>7.272531</td>\n",
       "      <td>5.625246</td>\n",
       "      <td>2.715240</td>\n",
       "      <td>0.290901</td>\n",
       "      <td>0.289020</td>\n",
       "      <td>0.284066</td>\n",
       "    </tr>\n",
       "    <tr>\n",
       "      <th>min</th>\n",
       "      <td>50.005581</td>\n",
       "      <td>71.687943</td>\n",
       "      <td>88.348946</td>\n",
       "      <td>0.000223</td>\n",
       "      <td>0.001756</td>\n",
       "      <td>0.000480</td>\n",
       "    </tr>\n",
       "    <tr>\n",
       "      <th>25%</th>\n",
       "      <td>56.036651</td>\n",
       "      <td>80.002823</td>\n",
       "      <td>91.911621</td>\n",
       "      <td>0.241466</td>\n",
       "      <td>0.241392</td>\n",
       "      <td>0.262642</td>\n",
       "    </tr>\n",
       "    <tr>\n",
       "      <th>50%</th>\n",
       "      <td>61.578569</td>\n",
       "      <td>84.499588</td>\n",
       "      <td>94.172791</td>\n",
       "      <td>0.463143</td>\n",
       "      <td>0.473659</td>\n",
       "      <td>0.509225</td>\n",
       "    </tr>\n",
       "    <tr>\n",
       "      <th>75%</th>\n",
       "      <td>68.524935</td>\n",
       "      <td>89.146404</td>\n",
       "      <td>96.458494</td>\n",
       "      <td>0.740997</td>\n",
       "      <td>0.735758</td>\n",
       "      <td>0.748163</td>\n",
       "    </tr>\n",
       "    <tr>\n",
       "      <th>max</th>\n",
       "      <td>74.979469</td>\n",
       "      <td>95.269379</td>\n",
       "      <td>99.011681</td>\n",
       "      <td>0.999179</td>\n",
       "      <td>0.999410</td>\n",
       "      <td>0.999444</td>\n",
       "    </tr>\n",
       "  </tbody>\n",
       "</table>\n",
       "</div>"
      ],
      "text/plain": [
       "               Raf          Mek          Erk        N_Raf        N_Mek  \\\n",
       "count  1000.000000  1000.000000  1000.000000  1000.000000  1000.000000   \n",
       "mean     62.148663    84.519012    94.160065     0.485947     0.490790   \n",
       "std       7.272531     5.625246     2.715240     0.290901     0.289020   \n",
       "min      50.005581    71.687943    88.348946     0.000223     0.001756   \n",
       "25%      56.036651    80.002823    91.911621     0.241466     0.241392   \n",
       "50%      61.578569    84.499588    94.172791     0.463143     0.473659   \n",
       "75%      68.524935    89.146404    96.458494     0.740997     0.735758   \n",
       "max      74.979469    95.269379    99.011681     0.999179     0.999410   \n",
       "\n",
       "             N_erk  \n",
       "count  1000.000000  \n",
       "mean      0.503301  \n",
       "std       0.284066  \n",
       "min       0.000480  \n",
       "25%       0.262642  \n",
       "50%       0.509225  \n",
       "75%       0.748163  \n",
       "max       0.999444  "
      ]
     },
     "execution_count": 3,
     "metadata": {},
     "output_type": "execute_result"
    }
   ],
   "source": [
    "obss = np.array([torch.stack(mapk_scm.model(noise)).numpy() for _ in range(1000)])\n",
    "#np.savetxt('mapk_samples_double_large_binom.csv', obss, delimiter=',')\n",
    "df = pd.DataFrame(data=obss,columns=['Raf','Mek','Erk','N_Raf','N_Mek','N_erk'])\n",
    "\n",
    "df.describe()"
   ]
  },
  {
   "cell_type": "markdown",
   "metadata": {},
   "source": [
    "## True Counterfactual"
   ]
  },
  {
   "cell_type": "code",
   "execution_count": 5,
   "metadata": {},
   "outputs": [],
   "source": [
    "out = scm_erk_counterfactual(\n",
    "        true_rates,\n",
    "        totals,\n",
    "        observation,\n",
    "        raf_intervention,\n",
    "        spike_width=1.0,\n",
    "        svi=True\n",
    "        )"
   ]
  },
  {
   "cell_type": "markdown",
   "metadata": {},
   "source": [
    "# misspeced counterfactual with true data"
   ]
  },
  {
   "cell_type": "code",
   "execution_count": 8,
   "metadata": {},
   "outputs": [],
   "source": [
    "misspeced_true = scm_erk_counterfactual(\n",
    "        misspeced_rates,\n",
    "        totals,\n",
    "        observation,\n",
    "        raf_intervention,\n",
    "        spike_width=1.0,\n",
    "        svi=True\n",
    "        )\n",
    "\n",
    "#plot_hist(misspeced_true, \"\", \"Weight\")"
   ]
  },
  {
   "cell_type": "markdown",
   "metadata": {},
   "source": [
    "## misspecified counterfactual with misspeced data"
   ]
  },
  {
   "cell_type": "code",
   "execution_count": 10,
   "metadata": {},
   "outputs": [],
   "source": [
    "misspeced_false = scm_erk_counterfactual(\n",
    "        misspeced_rates,\n",
    "        totals,\n",
    "        misspeced_observation,\n",
    "        raf_intervention,\n",
    "        spike_width=1.0,\n",
    "        svi=True\n",
    "        )\n",
    "\n",
    "#plot_hist(misspeced_false, \"\", \"Weight\")"
   ]
  },
  {
   "cell_type": "code",
   "execution_count": 46,
   "metadata": {},
   "outputs": [
    {
     "data": {
      "image/png": "[encoded data removed]",
      "text/plain": [
       "<Figure size 1080x720 with 1 Axes>"
      ]
     },
     "metadata": {
      "needs_background": "light"
     },
     "output_type": "display_data"
    }
   ],
   "source": [
    "bins = np.linspace(-10, 28, 100)\n",
    "\n",
    "fig = plt.figure(1)\n",
    "ax = fig.add_subplot(111)\n",
    "\n",
    "\n",
    "plt.hist(misspeced_true, bins, alpha=0.5, label='Misspecified Model | True data')\n",
    "plt.hist(out, bins, alpha=0.5, label='Original Model | True data')\n",
    "plt.hist(misspeced_false, bins, alpha=0.5, label='Misspecified Model | Misspecified data')\n",
    "plt.legend(loc='center right', bbox_to_anchor=(1.65, 0.5), fontsize=22)\n",
    "plt.title(\"Causal Effect of K3 on k\", fontsize=40)\n",
    "plt.rc('xtick', labelsize=50)\n",
    "plt.rc('ytick', labelsize=50)\n",
    "plt.show()"
   ]
  },
  {
   "cell_type": "code",
   "execution_count": 83,
   "metadata": {
    "scrolled": true
   },
   "outputs": [
    {
     "data": {
      "application/vnd.jupyter.widget-view+json": {
       "model_id": "289995fd2f094733a062b82f02e5dcd6",
       "version_major": 2,
       "version_minor": 0
      },
      "text/plain": [
       "HBox(children=(IntProgress(value=0, max=10), HTML(value='')))"
      ]
     },
     "metadata": {},
     "output_type": "display_data"
    },
    {
     "name": "stderr",
     "output_type": "stream",
     "text": [
      "/anaconda3/envs/pyro/lib/python3.6/site-packages/ipykernel_launcher.py:34: RuntimeWarning: invalid value encountered in log\n"
     ]
    }
   ],
   "source": [
    "KL_Original_True = []\n",
    "KL_Original_False = []\n",
    "\n",
    "for i in tqdm(range(10)):\n",
    "    misspeced_rates = {\n",
    "        'raf_activate': 0.1,\n",
    "        'raf_deactivate': 0.1,\n",
    "        'mek_activate': pyro.sample('misspeced_Mek', dist.Uniform(0.1,0.5)),\n",
    "        'mek_deactivate': 2,\n",
    "        'erk_activate': 0.1,\n",
    "        'erk_deactivate': 1\n",
    "    }\n",
    "    \n",
    "    mis_mapk_scm = MAPK_SCM(misspeced_rates, \n",
    "                    totals, \n",
    "                    spike_width=1.0)\n",
    "    \n",
    "    obs = mapk_scm.model(noise)\n",
    "    \n",
    "    misspeced_observation = {\n",
    "        'Raf': float(obs[0]),\n",
    "        'Mek': float(obs[1]),\n",
    "        'Erk': float(obs[2])\n",
    "    }\n",
    "    \n",
    "    misspeced_true = scm_erk_counterfactual(\n",
    "        mis_mapk_scm,\n",
    "        misspeced_rates,\n",
    "        totals,\n",
    "        observation,\n",
    "        raf_intervention,\n",
    "        spike_width=1.0,\n",
    "        svi=True\n",
    "        )\n",
    "    \n",
    "    misspeced_false = scm_erk_counterfactual(\n",
    "        mis_mapk_scm,\n",
    "        misspeced_rates,\n",
    "        totals,\n",
    "        misspeced_observation,\n",
    "        raf_intervention,\n",
    "        spike_width=1.0,\n",
    "        svi=True\n",
    "        )\n",
    "    KL_Original_True.append(KL(out, misspeced_true))\n",
    "    KL_Original_False.append(KL(out, misspeced_false))"
   ]
  },
  {
   "cell_type": "code",
   "execution_count": 85,
   "metadata": {},
   "outputs": [
    {
     "data": {
      "text/plain": [
       "[nan, nan, nan, nan, nan, nan, nan, nan, nan, nan]"
      ]
     },
     "execution_count": 85,
     "metadata": {},
     "output_type": "execute_result"
    }
   ],
   "source": [
    "KL_Original_False"
   ]
  },
  {
   "cell_type": "code",
   "execution_count": 137,
   "metadata": {},
   "outputs": [],
   "source": []
  },
  {
   "cell_type": "code",
   "execution_count": 138,
   "metadata": {},
   "outputs": [
    {
     "data": {
      "text/plain": [
       "array([[ 5.01310844e+01,  9.28823853e+01,  8.38254242e+01,\n",
       "         5.24341641e-03,  1.04979885e+00, -7.35576510e-01],\n",
       "       [ 2.62392616e+01,  9.98051147e+01,  9.70354462e+01,\n",
       "        -9.50429559e-01,  1.75427639e+00,  7.42056191e-01],\n",
       "       [ 7.42417374e+01,  7.10783081e+01,  7.74572830e+01,\n",
       "         9.69669461e-01, -4.60554361e-01, -9.44177985e-01],\n",
       "       [ 3.15102978e+01,  7.06951218e+01,  8.77056122e+01,\n",
       "        -7.39588082e-01,  4.00910854e-01,  9.02099349e-03],\n",
       "       [ 9.84097595e+01,  8.93788300e+01,  8.21653595e+01,\n",
       "         1.93639052e+00,  4.46609855e-01, -8.58803034e-01],\n",
       "       [ 4.66292877e+01,  5.49074936e+01,  9.18115616e+01,\n",
       "        -1.34828538e-01, -7.17659414e-01,  5.53835928e-01],\n",
       "       [ 5.29528160e+01,  6.97187576e+01,  9.27739868e+01,\n",
       "         1.18112706e-01, -1.44039407e-01,  4.84760106e-01],\n",
       "       [ 4.03379402e+01,  5.91898880e+01,  9.15412750e+01,\n",
       "        -3.86482358e-01, -3.45829874e-01,  4.84811604e-01],\n",
       "       [ 8.12146759e+01,  9.15096970e+01,  1.02963890e+02,\n",
       "         1.24858689e+00,  7.10777760e-01,  1.44301963e+00],\n",
       "       [ 7.21275406e+01,  6.61133423e+01,  6.89900360e+01,\n",
       "         8.85101736e-01, -7.16490209e-01, -1.56602037e+00]], dtype=float32)"
      ]
     },
     "execution_count": 138,
     "metadata": {},
     "output_type": "execute_result"
    }
   ],
   "source": [
    "obss[:10]"
   ]
  },
  {
   "cell_type": "code",
   "execution_count": 29,
   "metadata": {},
   "outputs": [],
   "source": [
    "np.savetxt('mapk_samples.txt', obss, delimiter=',')"
   ]
  },
  {
   "cell_type": "code",
   "execution_count": 110,
   "metadata": {},
   "outputs": [],
   "source": [
    "noise = {\n",
    "        'N_SOS': dist.Normal(0., 1.),\n",
    "        'N_Ras': dist.Normal(0., 1.),\n",
    "        'N_PI3K': dist.Normal(0., 1.),\n",
    "        'N_AKT': dist.Normal(0., 1.),\n",
    "        'N_Raf': dist.Normal(0., 1.),\n",
    "        'N_Mek': dist.Normal(0., 1.),\n",
    "        'N_Erk': dist.Normal(0., 1.)\n",
    "    }\n",
    "misspeced_rates = {\n",
    "  'SOS_activation_by_EGFR': .01,\n",
    "  'SOS_activation_by_IGFR':.01,\n",
    "  'SOS_deactivation':.5,\n",
    "  'Ras_activation_by_SOS':.01,\n",
    "  'Ras_deactivation':pyro.sample('misspeced_Ras', dist.Uniform(0.1,0.5)),\n",
    "  'PI3K_activation_by_EGFR':.01,\n",
    "  'PI3K_activation_by_IGFR':.01,\n",
    "  'PI3K_activation_by_Ras':.01,\n",
    "  'PI3K_deactivation':.5,\n",
    "  'AKT_activation_by_PI3K':.01,\n",
    "  'AKT_deactivation':pyro.sample('misspeced_AKT', dist.Uniform(0.1,0.5)),\n",
    "  'Raf_activation_by_Ras':.01,\n",
    "  'Raf_deactivation_by_AKT':.01,\n",
    "  'Raf_deactivation_by_phosphotase':.3,\n",
    "  'Mek_activation_by_Raf':.05,\n",
    "  'Mek_deactivation': 0.5,\n",
    "  'Erk_activation_by_Mek':.05,\n",
    "  'Erk_deactivation':.5\n",
    "}\n",
    "\n",
    "rates = {\n",
    "  'SOS_activation_by_EGFR': .01,\n",
    "  'SOS_activation_by_IGFR':.01,\n",
    "  'SOS_deactivation':.5,\n",
    "  'Ras_activation_by_SOS':.01,\n",
    "  'Ras_deactivation':.5,\n",
    "  'PI3K_activation_by_EGFR':.01,\n",
    "  'PI3K_activation_by_IGFR':.01,\n",
    "  'PI3K_activation_by_Ras':.01,\n",
    "  'PI3K_deactivation':.5,\n",
    "  'AKT_activation_by_PI3K':.01,\n",
    "  'AKT_deactivation':.5,\n",
    "  'Raf_activation_by_Ras':.01,\n",
    "  'Raf_deactivation_by_AKT':.01,\n",
    "  'Raf_deactivation_by_phosphotase':.3,\n",
    "  'Mek_activation_by_Raf':.05,\n",
    "  'Mek_deactivation':.5,\n",
    "  'Erk_activation_by_Mek':.05,\n",
    "  'Erk_deactivation':.5\n",
    "}\n",
    "\n",
    "totals = {\n",
    "        'SOS': 100.,\n",
    "        'Ras': 100.,\n",
    "        'PI3K': 100.,\n",
    "        'AKT': 100.,\n",
    "        'Raf': 100.,\n",
    "        'Mek': 100.,\n",
    "        'Erk': 100.\n",
    "    }\n",
    "\n",
    "gf_scm = GF_SCM(rates, totals, spike_width=1.0)\n",
    "obs = gf_scm.model(noise)\n",
    "\n",
    "observation = {\n",
    "        'SOS': obs[0][0],\n",
    "        'Ras': obs[0][1],\n",
    "        'PI3K': obs[0][2],\n",
    "        'AKT': obs[0][3],\n",
    "        'Raf': obs[0][4],\n",
    "        'Mek': obs[0][5],\n",
    "        'Erk': obs[0][6]\n",
    "}\n",
    "\n",
    "gf_scm = GF_SCM(misspeced_rates, totals, spike_width=1.0)\n",
    "obs = gf_scm.model(noise)\n",
    "\n",
    "misspeced_observation = {\n",
    "        'SOS': obs[0][0],\n",
    "        'Ras': obs[0][1],\n",
    "        'PI3K': obs[0][2],\n",
    "        'AKT': obs[0][3],\n",
    "        'Raf': obs[0][4],\n",
    "        'Mek': obs[0][5],\n",
    "        'Erk': obs[0][6]\n",
    "}\n",
    "\n",
    "ras_intervention = {\n",
    "    'Ras': 15.0\n",
    "}"
   ]
  },
  {
   "cell_type": "code",
   "execution_count": 43,
   "metadata": {},
   "outputs": [],
   "source": [
    "igf_samples = np.array([np.array(gf_scm.model(noise)).flatten() for _ in range(1000)])"
   ]
  },
  {
   "cell_type": "code",
   "execution_count": 45,
   "metadata": {},
   "outputs": [],
   "source": [
    "np.savetxt('igf_samples.txt', igf_samples, delimiter=',')"
   ]
  },
  {
   "cell_type": "markdown",
   "metadata": {},
   "source": [
    "## True Counterfactual"
   ]
  },
  {
   "cell_type": "code",
   "execution_count": 111,
   "metadata": {},
   "outputs": [],
   "source": [
    "out = scm_ras_erk_counterfactual(\n",
    "        rates,\n",
    "        totals,\n",
    "        observation,\n",
    "        raf_intervention,\n",
    "        spike_width=1.0,\n",
    "        svi=True\n",
    "        )"
   ]
  },
  {
   "cell_type": "markdown",
   "metadata": {},
   "source": [
    "# misspeced counterfactual with true data"
   ]
  },
  {
   "cell_type": "code",
   "execution_count": 112,
   "metadata": {},
   "outputs": [],
   "source": [
    "misspeced_true = scm_ras_erk_counterfactual(\n",
    "        misspeced_rates,\n",
    "        totals,\n",
    "        observation,\n",
    "        raf_intervention,\n",
    "        spike_width=1.0,\n",
    "        svi=True\n",
    "        )"
   ]
  },
  {
   "cell_type": "markdown",
   "metadata": {},
   "source": [
    "## misspeced counterfactual with misspeced data"
   ]
  },
  {
   "cell_type": "code",
   "execution_count": 113,
   "metadata": {},
   "outputs": [],
   "source": [
    "misspeced_false = scm_ras_erk_counterfactual(\n",
    "        misspeced_rates,\n",
    "        totals,\n",
    "        misspeced_observation,\n",
    "        raf_intervention,\n",
    "        spike_width=1.0,\n",
    "        svi=True\n",
    "        )"
   ]
  },
  {
   "cell_type": "code",
   "execution_count": 123,
   "metadata": {},
   "outputs": [
    {
     "data": {
      "image/png": "[encoded data removed]",
      "text/plain": [
       "<Figure size 1080x720 with 1 Axes>"
      ]
     },
     "metadata": {
      "needs_background": "light"
     },
     "output_type": "display_data"
    }
   ],
   "source": [
    "bins = np.linspace(-10, 20, 100)\n",
    "\n",
    "plt.hist(misspeced_true, bins, alpha=0.5, label='Misspecified Model | True Observation')\n",
    "plt.hist(out, bins, alpha=0.5, label='Original Model | True Observation')\n",
    "plt.hist(misspeced_false, bins, alpha=0.5, label='Misspecified Model | Misspecified Observation')\n",
    "plt.legend(loc='upper right', fontsize=18)\n",
    "plt.title(\"Causal effect of Ras on Erk\", fontsize=40)\n",
    "plt.rc('xtick', labelsize=50)\n",
    "plt.rc('ytick', labelsize=50)\n",
    "plt.show()"
   ]
  },
  {
   "cell_type": "code",
   "execution_count": null,
   "metadata": {},
   "outputs": [],
   "source": []
  }
 ],
 "metadata": {
  "kernelspec": {
   "display_name": "Python 3",
   "language": "python",
   "name": "python3"
  },
  "language_info": {
   "codemirror_mode": {
    "name": "ipython",
    "version": 3
   },
   "file_extension": ".py",
   "mimetype": "text/x-python",
   "name": "python",
   "nbconvert_exporter": "python",
   "pygments_lexer": "ipython3",
   "version": "3.6.7"
  }
 },
 "nbformat": 4,
 "nbformat_minor": 2
}
