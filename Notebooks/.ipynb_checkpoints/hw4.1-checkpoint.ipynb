{
 "cells": [
  {
   "cell_type": "markdown",
   "metadata": {},
   "source": [
    "$$\n",
    "\\begin{align} \n",
    "\\mathbf{M} =\n",
    "\\left\\{\\begin{matrix}\n",
    "n_x &\\sim &\\text{BernoulliBool}(p=0.5433931)\\\\ \n",
    "n_q &\\sim &\\text{BernoulliBool}(p=0.05)\\\\ \n",
    "n_y &\\sim &\\text{BernoulliBool}(p=.0077)\\\\ \n",
    "x &= &n_x \\\\ \n",
    "q &= &n_q \\\\\n",
    "y &= &(x \\wedge q) \\vee n_y\n",
    "\\\\ \n",
    "\\end{matrix}\\right. \\nonumber\n",
    "\\end{align}\n",
    "$$"
   ]
  },
  {
   "cell_type": "code",
   "execution_count": 1,
   "metadata": {},
   "outputs": [],
   "source": [
    "import pyro\n",
    "import torch\n",
    "import pyro.distributions as dist"
   ]
  },
  {
   "cell_type": "code",
   "execution_count": 4,
   "metadata": {},
   "outputs": [],
   "source": [
    "def f(x, q, n_y):\n",
    "    return (x and q) or n_y\n",
    "\n",
    "def model(noise):\n",
    "    n_x = pyro.sample('n_x', noise['X'])\n",
    "    n_q = pyro.sample('n_q', noise['Q'])\n",
    "    n_y = pyro.sample('n_y', noise['Y'])\n",
    "    \n",
    "    X = pyro.sample('X', dist.Delta(n_x))\n",
    "    Q = pyro.sample('Q', dist.Delta(n_q))\n",
    "    Y = pyro.sample('Y', dist.Delta(f(X, Q, n_y)))\n",
    "    \n",
    "    return {\n",
    "        'X': X,\n",
    "        'Q': Q,\n",
    "        'Y': Y\n",
    "    }"
   ]
  },
  {
   "cell_type": "code",
   "execution_count": 24,
   "metadata": {},
   "outputs": [
    {
     "data": {
      "text/plain": [
       "{'X': tensor(0.), 'Q': tensor(0.), 'Y': tensor(0.)}"
      ]
     },
     "execution_count": 24,
     "metadata": {},
     "output_type": "execute_result"
    }
   ],
   "source": [
    "noise = {\n",
    "    'X': dist.Bernoulli(torch.tensor(0.5433931)),\n",
    "    'Q': dist.Bernoulli(torch.tensor(0.05)),\n",
    "    'Y': dist.Bernoulli(torch.tensor(0.0077))\n",
    "}\n",
    "\n",
    "model(noise)"
   ]
  },
  {
   "cell_type": "code",
   "execution_count": 25,
   "metadata": {},
   "outputs": [],
   "source": [
    "def CFQuery(model, noise, obs_x, int_x, ssize):\n",
    "    \"\"\"\n",
    "    Performs Counterfactual Inference on model.\n",
    "    \n",
    "    `model`: the subroutine encoding the SCM.\n",
    "    `noise`: a dictionary containing distributions for each \n",
    "    noise object.\n",
    "    `obs_x`: a dictionary containing observed values for each \n",
    "    variable in the model.\n",
    "    `int_x`: a dictionary containing values for a subset of \n",
    "    variables for intervention.\n",
    "    `ssize`: # samples to return from the posterior of \n",
    "    counterfactual distribution.\n",
    "    \"\"\"\n",
    "    \n",
    "    # Condition on observed outcome\n",
    "    obs_mod = pyro.condition(model, data = obs_x)\n",
    "    \n",
    "    # Set intervention for counterfactual outcome \n",
    "    int_mod = pyro.do(model, data = int_x)\n",
    "    \n",
    "    # Infer noise give observed outcome\n",
    "    NPstr = infer_dist(obs_mod, noise)\n",
    "    \n",
    "    noise_posteriors = compute_posteriors(NPstr, noise)\n",
    "        \n",
    "    # Generate CF outcome by passing updated\n",
    "    # noise to intervention model\n",
    "    samples = [int_mod(noise_posteriors,\n",
    "                       thetaX1 = torch.Tensor([0.5]),\n",
    "                       thetaX2 = torch.Tensor([0.8])) \n",
    "               for _ in range(ssize)] \n",
    "    return samples"
   ]
  },
  {
   "cell_type": "code",
   "execution_count": null,
   "metadata": {},
   "outputs": [],
   "source": [
    "CFQuery(model, noise, )"
   ]
  }
 ],
 "metadata": {
  "kernelspec": {
   "display_name": "Python 3",
   "language": "python",
   "name": "python3"
  },
  "language_info": {
   "codemirror_mode": {
    "name": "ipython",
    "version": 3
   },
   "file_extension": ".py",
   "mimetype": "text/x-python",
   "name": "python",
   "nbconvert_exporter": "python",
   "pygments_lexer": "ipython3",
   "version": "3.6.7"
  }
 },
 "nbformat": 4,
 "nbformat_minor": 2
}
